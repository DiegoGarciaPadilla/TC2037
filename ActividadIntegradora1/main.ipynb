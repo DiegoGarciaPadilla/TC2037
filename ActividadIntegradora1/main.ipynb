{
 "cells": [
  {
   "cell_type": "markdown",
   "metadata": {},
   "source": [
    "# Actividad Integradora\n",
    "\n",
    "Diego Antonio García Padilla (A01710777)"
   ]
  },
  {
   "cell_type": "code",
   "execution_count": 36,
   "metadata": {},
   "outputs": [
    {
     "name": "stdout",
     "output_type": "stream",
     "text": [
      "La expresión regular es:  (a|b)*abb\n"
     ]
    }
   ],
   "source": [
    "# Leer expresión regular (se asume que es correcta)\n",
    "\n",
    "regex_input = input(\"Ingrese la expresión regular: \").lower()\n",
    "\n",
    "print(\"La expresión regular es: \", regex_input)"
   ]
  },
  {
   "cell_type": "code",
   "execution_count": 37,
   "metadata": {},
   "outputs": [
    {
     "name": "stdout",
     "output_type": "stream",
     "text": [
      "RegEx:  (a|b)*.a.b.b\n"
     ]
    }
   ],
   "source": [
    "# Parsear expresión regular\n",
    "# Ejemplo: a*b(a|b) -> a*.b.(a|b)\n",
    "\n",
    "def format_regex(regex_input):\n",
    "    regex = \"\"\n",
    "    \n",
    "    # Agregar punto en concatenación\n",
    "    for i in range(len(regex_input)):\n",
    "        if i < len(regex_input) - 1:\n",
    "            if regex_input[i].isalpha() and regex_input[i + 1].isalpha():\n",
    "                regex += regex_input[i] + \".\"\n",
    "            elif regex_input[i + 1] == \"(\":\n",
    "                regex += regex_input[i] + \".\"\n",
    "            elif regex_input[i] == \")\" and regex_input[i + 1].isalpha():\n",
    "                regex += regex_input[i] + \".\"\n",
    "            else:\n",
    "                regex += regex_input[i]\n",
    "        else:\n",
    "            regex += regex_input[i]\n",
    "            \n",
    "    # Tranformar cerradura positiva en cerradura de Kleene (a+ -> aa*)\n",
    "    for i in range(len(regex)):\n",
    "        if regex[i] == \"+\":\n",
    "            l1 = regex[:i]\n",
    "            l2 = regex[i + 1:]\n",
    "            regex = l1 + l1[-1] + \"*\" + l2\n",
    "        \n",
    "    # Agregar punto entre operadores de repetición y sus operandos\n",
    "    for i in range(len(regex)):\n",
    "        if i < len(regex) - 1:\n",
    "            if regex[i] == \"*\" and regex[i + 1].isalpha():\n",
    "                regex = regex[:i + 1] + \".\" + regex[i + 1:]\n",
    "            elif regex[i] == \"*\" and regex[i + 1] == \"(\":\n",
    "                regex = regex[:i + 1] + \".\" + regex[i + 1:]\n",
    "    \n",
    "    # Retornar expresión regular formateada\n",
    "    return regex\n",
    "\n",
    "# Formatear expresión regular dos veces para asegurar que no queden puntos juntos\n",
    "regex = format_regex(regex_input)\n",
    "\n",
    "        \n",
    "print(\"RegEx: \", regex)"
   ]
  },
  {
   "cell_type": "code",
   "execution_count": 38,
   "metadata": {},
   "outputs": [
    {
     "name": "stdout",
     "output_type": "stream",
     "text": [
      "Alfabeto:  {'b', 'a'}\n"
     ]
    }
   ],
   "source": [
    "# Obtener alfabeto\n",
    "# Ejemplo: a.*b.(a|b) -> {a, b}\n",
    "\n",
    "alfabeto = set()\n",
    "\n",
    "for i in range(len(regex)):\n",
    "    if regex[i].isalpha():\n",
    "        alfabeto.add(regex[i])\n",
    "\n",
    "print(\"Alfabeto: \", alfabeto)"
   ]
  },
  {
   "cell_type": "code",
   "execution_count": 39,
   "metadata": {},
   "outputs": [
    {
     "name": "stdout",
     "output_type": "stream",
     "text": [
      "Posfijo:  ab|*a.b.b.\n"
     ]
    }
   ],
   "source": [
    "# Parsear expresión regular a posfijo\n",
    "\n",
    "def regex_to_postfix(regex):\n",
    "    postfix = \"\"\n",
    "    stack = []\n",
    "    \n",
    "    for i in range(len(regex)):\n",
    "        if regex[i].isalpha():\n",
    "            postfix += regex[i]\n",
    "        elif regex[i] == \"(\":\n",
    "            stack.append(regex[i])\n",
    "        elif regex[i] == \")\":\n",
    "            while stack[-1] != \"(\":\n",
    "                postfix += stack.pop()\n",
    "            stack.pop()\n",
    "        else:\n",
    "            while len(stack) > 0 and stack[-1] != \"(\":\n",
    "                postfix += stack.pop()\n",
    "            stack.append(regex[i])\n",
    "    \n",
    "    while len(stack) > 0:\n",
    "        postfix += stack.pop()\n",
    "    \n",
    "    return postfix\n",
    "\n",
    "postfix = regex_to_postfix(regex)\n",
    "\n",
    "print(\"Posfijo: \", postfix)"
   ]
  },
  {
   "cell_type": "code",
   "execution_count": 40,
   "metadata": {},
   "outputs": [
    {
     "name": "stdout",
     "output_type": "stream",
     "text": [
      "Estado inicial:  6\n",
      "Estado final:  13\n",
      "Transición:  0  ->  [(1, 'a')]\n",
      "Transición:  2  ->  [(3, 'b')]\n",
      "Transición:  4  ->  [(2, '#'), (0, '#')]\n",
      "Transición:  3  ->  [(5, '#')]\n",
      "Transición:  1  ->  [(5, '#')]\n",
      "Transición:  6  ->  [(4, '#'), (7, '#')]\n",
      "Transición:  5  ->  [(7, '#'), (4, '#')]\n",
      "Transición:  8  ->  [(9, 'a')]\n",
      "Transición:  7  ->  [(8, '#')]\n",
      "Transición:  10  ->  [(11, 'b')]\n",
      "Transición:  9  ->  [(10, '#')]\n",
      "Transición:  12  ->  [(13, 'b')]\n",
      "Transición:  11  ->  [(12, '#')]\n"
     ]
    }
   ],
   "source": [
    "# Generar autómata finito no determinista\n",
    "\n",
    "expresiones = []\n",
    "transiciones = {}\n",
    "\n",
    "estados = -1\n",
    "estado_inicial = 0\n",
    "estado_final = 0\n",
    "\n",
    "for char in postfix:\n",
    "    # Si es un símbolo del alfabeto, generar un autómata finito no determinista con un estado inicial,\n",
    "    # un estado final y una transición con el símbolo.\n",
    "    if char in alfabeto:\n",
    "        # Crear estados\n",
    "        estados += 1\n",
    "        estado_inicial = estados\n",
    "        estados += 1\n",
    "        estado_final = estados\n",
    "        \n",
    "        # Agregar estados a expresiones\n",
    "        expresiones.append([estado_inicial, estado_final])\n",
    "        \n",
    "        # Agregar transición vacía de estado inicial a estado final\n",
    "        transiciones[estado_inicial] = []\n",
    "        \n",
    "        # Agregar transición de estado inicial a estado final con el símbolo\n",
    "        transiciones[estado_inicial].append((estado_final, char))\n",
    "    \n",
    "    # Si es un operador de repetición\n",
    "    if char == \"*\":\n",
    "        # Tomar la última expresión generada (para repetición es necesario tener una expresión)\n",
    "        [e1, e2] = expresiones.pop()\n",
    "        \n",
    "        # Crear estados\n",
    "        estados += 1\n",
    "        estado_inicial = estados\n",
    "        estados += 1\n",
    "        estado_final = estados\n",
    "        \n",
    "        # Agregar estados a expresiones\n",
    "        expresiones.append([estado_inicial, estado_final])\n",
    "        \n",
    "        # Agregar transiciones vacías\n",
    "        transiciones[estado_inicial] = []\n",
    "        transiciones[e2] = []\n",
    "        \n",
    "        # Agregar transiciones\n",
    "        transiciones[estado_inicial].append((e1, \"#\"))\n",
    "        transiciones[e2].append((estado_final, \"#\"))\n",
    "        transiciones[estado_inicial].append((estado_final, \"#\"))\n",
    "        transiciones[e2].append((e1, \"#\"))\n",
    "    \n",
    "    # Si es un operador de concatenación, unir los dos últimos autómatas finitos no deterministas generados\n",
    "    if char == \".\":\n",
    "        # Tomar las dos últimas expresiones generadas (para concatenación es necesario tener dos expresiones)\n",
    "        [e1, e2] = expresiones.pop() # 2do\n",
    "        [e3, e4] = expresiones.pop() # 1er\n",
    "        \n",
    "        # Agregar transición vacia\n",
    "        transiciones[e4] = []\n",
    "        \n",
    "        # Agregar transiciones\n",
    "        transiciones[e4].append((e1, \"#\"))\n",
    "        \n",
    "        # Agregar estados a expresiones\n",
    "        expresiones.append([e3, e2])\n",
    "        \n",
    "        # Actualizar estado inicial y final\n",
    "        estado_inicial = e3\n",
    "        estado_final = e2\n",
    "    \n",
    "    # Si es un operador de elección\n",
    "    if char == \"|\":\n",
    "        # Tomar las dos últimas expresiones generadas (para elección es necesario tener dos expresiones)\n",
    "        [e1, e2] = expresiones.pop()\n",
    "        [e3, e4] = expresiones.pop()\n",
    "        \n",
    "        # Crear estados\n",
    "        estados += 1\n",
    "        estado_inicial = estados\n",
    "        estados += 1\n",
    "        estado_final = estados\n",
    "        \n",
    "        # Agregar estados a expresiones\n",
    "        expresiones.append([estado_inicial, estado_final])\n",
    "        \n",
    "        # Agregar transiciones vacías\n",
    "        transiciones[estado_inicial] = []\n",
    "        transiciones[e2] = []\n",
    "        transiciones[e4] = []\n",
    "        \n",
    "        # Agregar transiciones\n",
    "        transiciones[estado_inicial].append((e1, \"#\"))\n",
    "        transiciones[estado_inicial].append((e3, \"#\"))\n",
    "        transiciones[e2].append((estado_final, \"#\"))\n",
    "        transiciones[e4].append((estado_final, \"#\"))\n",
    "        \n",
    "# Imprimir resultado\n",
    "print(\"Estado inicial: \", estado_inicial)\n",
    "print(\"Estado final: \", estado_final)\n",
    "\n",
    "for transicion in transiciones:\n",
    "    print(\"Transición: \", transicion, \" -> \", transiciones[transicion])"
   ]
  }
 ],
 "metadata": {
  "kernelspec": {
   "display_name": "Python 3",
   "language": "python",
   "name": "python3"
  },
  "language_info": {
   "codemirror_mode": {
    "name": "ipython",
    "version": 3
   },
   "file_extension": ".py",
   "mimetype": "text/x-python",
   "name": "python",
   "nbconvert_exporter": "python",
   "pygments_lexer": "ipython3",
   "version": "3.10.11"
  }
 },
 "nbformat": 4,
 "nbformat_minor": 2
}
